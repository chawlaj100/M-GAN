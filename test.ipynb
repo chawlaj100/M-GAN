{
 "cells": [
  {
   "cell_type": "code",
   "execution_count": 1,
   "id": "engaged-robinson",
   "metadata": {},
   "outputs": [],
   "source": [
    "import os\n",
    "import argparse\n",
    "import fasttext\n",
    "from PIL import Image\n",
    "import cv2\n",
    "import numpy as np\n",
    "import random\n",
    "\n",
    "import torch\n",
    "import torchvision.transforms as transforms\n",
    "from torchvision.utils import save_image\n",
    "\n",
    "from model import Generator"
   ]
  },
  {
   "cell_type": "code",
   "execution_count": 2,
   "id": "direct-fence",
   "metadata": {},
   "outputs": [],
   "source": [
    "if not torch.cuda.is_available():\n",
    "    print('Warning: cuda is not available on this machine.')\n",
    "    args.no_cuda = True\n",
    "device = torch.device('cpu' if not torch.cuda.is_available() else 'cuda')"
   ]
  },
  {
   "cell_type": "code",
   "execution_count": 3,
   "id": "comic-glenn",
   "metadata": {},
   "outputs": [
    {
     "data": {
      "text/plain": [
       "device(type='cuda')"
      ]
     },
     "execution_count": 3,
     "metadata": {},
     "output_type": "execute_result"
    }
   ],
   "source": [
    "device"
   ]
  },
  {
   "cell_type": "code",
   "execution_count": 4,
   "id": "established-summer",
   "metadata": {},
   "outputs": [
    {
     "name": "stdout",
     "output_type": "stream",
     "text": [
      "Loading a pretrained fastText model...\n"
     ]
    },
    {
     "name": "stderr",
     "output_type": "stream",
     "text": [
      "Warning : `load_model` does not return WordVectorModel or SupervisedModel any more, but a `FastText` object which is very similar.\n"
     ]
    }
   ],
   "source": [
    "print('Loading a pretrained fastText model...')\n",
    "word_embedding = fasttext.load_model(\"caption_vec.bin\")"
   ]
  },
  {
   "cell_type": "code",
   "execution_count": 90,
   "id": "magnetic-syndicate",
   "metadata": {
    "scrolled": true
   },
   "outputs": [
    {
     "name": "stdout",
     "output_type": "stream",
     "text": [
      "Loading a pretrained model...\n"
     ]
    },
    {
     "data": {
      "text/plain": [
       "Generator(\n",
       "  (encoder): Sequential(\n",
       "    (0): Conv2d(3, 64, kernel_size=(3, 3), stride=(1, 1), padding=(1, 1))\n",
       "    (1): ReLU(inplace=True)\n",
       "    (2): Conv2d(64, 128, kernel_size=(4, 4), stride=(2, 2), padding=(1, 1), bias=False)\n",
       "    (3): BatchNorm2d(128, eps=1e-05, momentum=0.1, affine=True, track_running_stats=True)\n",
       "    (4): ReLU(inplace=True)\n",
       "    (5): Conv2d(128, 256, kernel_size=(4, 4), stride=(2, 2), padding=(1, 1), bias=False)\n",
       "    (6): BatchNorm2d(256, eps=1e-05, momentum=0.1, affine=True, track_running_stats=True)\n",
       "    (7): ReLU(inplace=True)\n",
       "    (8): Conv2d(256, 512, kernel_size=(4, 4), stride=(2, 2), padding=(1, 1), bias=False)\n",
       "    (9): BatchNorm2d(512, eps=1e-05, momentum=0.1, affine=True, track_running_stats=True)\n",
       "    (10): ReLU(inplace=True)\n",
       "  )\n",
       "  (residual_blocks): Sequential(\n",
       "    (0): Conv2d(640, 512, kernel_size=(3, 3), stride=(1, 1), padding=(1, 1), bias=False)\n",
       "    (1): BatchNorm2d(512, eps=1e-05, momentum=0.1, affine=True, track_running_stats=True)\n",
       "    (2): ReLU(inplace=True)\n",
       "    (3): ResidualBlock(\n",
       "      (encoder): Sequential(\n",
       "        (0): Conv2d(512, 512, kernel_size=(3, 3), stride=(1, 1), padding=(1, 1), bias=False)\n",
       "        (1): BatchNorm2d(512, eps=1e-05, momentum=0.1, affine=True, track_running_stats=True)\n",
       "        (2): ReLU(inplace=True)\n",
       "        (3): Conv2d(512, 512, kernel_size=(3, 3), stride=(1, 1), padding=(1, 1), bias=False)\n",
       "        (4): BatchNorm2d(512, eps=1e-05, momentum=0.1, affine=True, track_running_stats=True)\n",
       "      )\n",
       "    )\n",
       "    (4): ResidualBlock(\n",
       "      (encoder): Sequential(\n",
       "        (0): Conv2d(512, 512, kernel_size=(3, 3), stride=(1, 1), padding=(1, 1), bias=False)\n",
       "        (1): BatchNorm2d(512, eps=1e-05, momentum=0.1, affine=True, track_running_stats=True)\n",
       "        (2): ReLU(inplace=True)\n",
       "        (3): Conv2d(512, 512, kernel_size=(3, 3), stride=(1, 1), padding=(1, 1), bias=False)\n",
       "        (4): BatchNorm2d(512, eps=1e-05, momentum=0.1, affine=True, track_running_stats=True)\n",
       "      )\n",
       "    )\n",
       "    (5): ResidualBlock(\n",
       "      (encoder): Sequential(\n",
       "        (0): Conv2d(512, 512, kernel_size=(3, 3), stride=(1, 1), padding=(1, 1), bias=False)\n",
       "        (1): BatchNorm2d(512, eps=1e-05, momentum=0.1, affine=True, track_running_stats=True)\n",
       "        (2): ReLU(inplace=True)\n",
       "        (3): Conv2d(512, 512, kernel_size=(3, 3), stride=(1, 1), padding=(1, 1), bias=False)\n",
       "        (4): BatchNorm2d(512, eps=1e-05, momentum=0.1, affine=True, track_running_stats=True)\n",
       "      )\n",
       "    )\n",
       "    (6): ResidualBlock(\n",
       "      (encoder): Sequential(\n",
       "        (0): Conv2d(512, 512, kernel_size=(3, 3), stride=(1, 1), padding=(1, 1), bias=False)\n",
       "        (1): BatchNorm2d(512, eps=1e-05, momentum=0.1, affine=True, track_running_stats=True)\n",
       "        (2): ReLU(inplace=True)\n",
       "        (3): Conv2d(512, 512, kernel_size=(3, 3), stride=(1, 1), padding=(1, 1), bias=False)\n",
       "        (4): BatchNorm2d(512, eps=1e-05, momentum=0.1, affine=True, track_running_stats=True)\n",
       "      )\n",
       "    )\n",
       "  )\n",
       "  (decoder): Sequential(\n",
       "    (0): Upsample(scale_factor=2.0, mode=nearest)\n",
       "    (1): Conv2d(512, 256, kernel_size=(3, 3), stride=(1, 1), padding=(1, 1), bias=False)\n",
       "    (2): BatchNorm2d(256, eps=1e-05, momentum=0.1, affine=True, track_running_stats=True)\n",
       "    (3): ReLU(inplace=True)\n",
       "    (4): Upsample(scale_factor=2.0, mode=nearest)\n",
       "    (5): Conv2d(256, 128, kernel_size=(3, 3), stride=(1, 1), padding=(1, 1), bias=False)\n",
       "    (6): BatchNorm2d(128, eps=1e-05, momentum=0.1, affine=True, track_running_stats=True)\n",
       "    (7): ReLU(inplace=True)\n",
       "    (8): Upsample(scale_factor=2.0, mode=nearest)\n",
       "    (9): Conv2d(128, 64, kernel_size=(3, 3), stride=(1, 1), padding=(1, 1), bias=False)\n",
       "    (10): BatchNorm2d(64, eps=1e-05, momentum=0.1, affine=True, track_running_stats=True)\n",
       "    (11): ReLU(inplace=True)\n",
       "    (12): Conv2d(64, 3, kernel_size=(3, 3), stride=(1, 1), padding=(1, 1))\n",
       "    (13): Tanh()\n",
       "  )\n",
       "  (mu): Sequential(\n",
       "    (0): Linear(in_features=512, out_features=128, bias=True)\n",
       "    (1): LeakyReLU(negative_slope=0.2, inplace=True)\n",
       "  )\n",
       "  (log_sigma): Sequential(\n",
       "    (0): Linear(in_features=512, out_features=128, bias=True)\n",
       "    (1): LeakyReLU(negative_slope=0.2, inplace=True)\n",
       "  )\n",
       "  (txt_encoder_f): GRUCell(100, 512)\n",
       "  (txt_encoder_b): GRUCell(100, 512)\n",
       ")"
      ]
     },
     "execution_count": 90,
     "metadata": {},
     "output_type": "execute_result"
    }
   ],
   "source": [
    "print('Loading a pretrained model...')\n",
    "G = Generator().to(device)\n",
    "G.load_state_dict(torch.load(\"models/birds_GEN.pth\"))\n",
    "G.eval()"
   ]
  },
  {
   "cell_type": "code",
   "execution_count": 41,
   "id": "anonymous-easter",
   "metadata": {},
   "outputs": [],
   "source": [
    "transform = transforms.Compose([transforms.CenterCrop(128), transforms.ToTensor()])"
   ]
  },
  {
   "cell_type": "code",
   "execution_count": 26,
   "id": "efficient-effect",
   "metadata": {},
   "outputs": [],
   "source": [
    "img_path = \"CUB_200/images/\"\n",
    "save_path = \"CUB_200/result/\"\n",
    "def image_generation(classes, num_images):\n",
    "    for c in classes:\n",
    "        images = os.listdir(img_path+c)\n",
    "        img_selection = random.sample(images, num_images)\n",
    "        imgs = []\n",
    "        for img in img_selection:\n",
    "            im = Image.open(os.path.join(img_path+c+\"/\", img))\n",
    "            im = transform(im)\n",
    "            imgs.append(im)\n",
    "        imgs = torch.stack(imgs)\n",
    "        save_image(imgs, os.path.join(\"CUB_200/result/\", c+'_orig.jpg'), pad_value=1)\n",
    "        imgs = imgs.mul(2).sub(1).to(device)\n",
    "    \n",
    "        words = c.split()\n",
    "        txt = torch.tensor([word_embedding.get_word_vector(w) for w in words], device=device)\n",
    "        txt = txt.unsqueeze(1)\n",
    "        txt = txt.repeat(1, imgs.size(0), 1)\n",
    "        len_txt = torch.tensor([len(words)], dtype=torch.long, device=device)\n",
    "        len_txt = len_txt.repeat(imgs.size(0))\n",
    "        output, _ = G(imgs, (txt, len_txt))\n",
    "        \n",
    "        save_image(output.mul(0.5).add(0.5), os.path.join(\"CUB_200/result/\", c+'_gen.jpg'), pad_value=1)\n",
    "        print(\"Done: \",c)"
   ]
  },
  {
   "cell_type": "code",
   "execution_count": 48,
   "id": "removable-general",
   "metadata": {},
   "outputs": [],
   "source": [
    "classes = ['Caspian Tern']"
   ]
  },
  {
   "cell_type": "code",
   "execution_count": 49,
   "id": "corresponding-science",
   "metadata": {},
   "outputs": [
    {
     "name": "stdout",
     "output_type": "stream",
     "text": [
      "Please input number of images per class: 4\n"
     ]
    }
   ],
   "source": [
    "num_images = int(input(\"Please input number of images per class: \"))"
   ]
  },
  {
   "cell_type": "code",
   "execution_count": 50,
   "id": "employed-operations",
   "metadata": {},
   "outputs": [
    {
     "name": "stdout",
     "output_type": "stream",
     "text": [
      "Done:  Caspian Tern\n"
     ]
    }
   ],
   "source": [
    "image_generation(classes, num_images)"
   ]
  },
  {
   "cell_type": "code",
   "execution_count": 14,
   "id": "external-judgment",
   "metadata": {},
   "outputs": [],
   "source": [
    "path = \"CUB_200/test/Rose Breasted Grosbeak/\"\n",
    "filenames = os.listdir(path)\n",
    "img = []\n",
    "for fn in filenames:\n",
    "    im = Image.open(os.path.join(path, fn))\n",
    "    im = transform(im)\n",
    "    img.append(im)\n",
    "img = torch.stack(img)\n",
    "save_image(img, os.path.join(\"CUB_200/result/\", 'rose_original.jpg'), pad_value=1)\n",
    "img = img.mul(2).sub(1).to(device)"
   ]
  },
  {
   "cell_type": "code",
   "execution_count": 15,
   "id": "confidential-consortium",
   "metadata": {},
   "outputs": [
    {
     "data": {
      "text/plain": [
       "torch.Size([6, 3, 128, 128])"
      ]
     },
     "execution_count": 15,
     "metadata": {},
     "output_type": "execute_result"
    }
   ],
   "source": [
    "img.size()"
   ]
  },
  {
   "cell_type": "code",
   "execution_count": 91,
   "id": "nervous-abraham",
   "metadata": {},
   "outputs": [],
   "source": [
    "text = \"a light blue bird having black beak\""
   ]
  },
  {
   "cell_type": "code",
   "execution_count": 92,
   "id": "measured-recorder",
   "metadata": {},
   "outputs": [],
   "source": [
    "words = text.split()"
   ]
  },
  {
   "cell_type": "code",
   "execution_count": 93,
   "id": "tropical-thesaurus",
   "metadata": {},
   "outputs": [
    {
     "data": {
      "text/plain": [
       "['a', 'bird', 'having', 'light', 'blue', 'head']"
      ]
     },
     "execution_count": 93,
     "metadata": {},
     "output_type": "execute_result"
    }
   ],
   "source": [
    "words"
   ]
  },
  {
   "cell_type": "code",
   "execution_count": 94,
   "id": "civil-affect",
   "metadata": {},
   "outputs": [],
   "source": [
    "txt = torch.tensor([word_embedding.get_word_vector(w) for w in words], device=device)\n",
    "txt = txt.unsqueeze(1)\n",
    "txt = txt.repeat(1, img.size(0), 1)\n",
    "len_txt = torch.tensor([len(words)], dtype=torch.long, device=device)\n",
    "len_txt = len_txt.repeat(img.size(0))"
   ]
  },
  {
   "cell_type": "code",
   "execution_count": 95,
   "id": "communist-cover",
   "metadata": {},
   "outputs": [],
   "source": [
    "output, _ = G(img, (txt, len_txt))"
   ]
  },
  {
   "cell_type": "code",
   "execution_count": 96,
   "id": "welcome-shoot",
   "metadata": {},
   "outputs": [
    {
     "data": {
      "text/plain": [
       "torch.Size([6, 3, 128, 128])"
      ]
     },
     "execution_count": 96,
     "metadata": {},
     "output_type": "execute_result"
    }
   ],
   "source": [
    "output.size()"
   ]
  },
  {
   "cell_type": "code",
   "execution_count": 97,
   "id": "spectacular-smith",
   "metadata": {},
   "outputs": [],
   "source": [
    "out_filename = 'rose_output_2.jpg'"
   ]
  },
  {
   "cell_type": "code",
   "execution_count": 98,
   "id": "fitting-machinery",
   "metadata": {},
   "outputs": [],
   "source": [
    "save_image(output.mul(0.5).add(0.5), os.path.join(\"CUB_200/result/\", out_filename), pad_value=1)"
   ]
  },
  {
   "cell_type": "code",
   "execution_count": null,
   "id": "handled-enough",
   "metadata": {},
   "outputs": [],
   "source": []
  }
 ],
 "metadata": {
  "kernelspec": {
   "display_name": "Python 3",
   "language": "python",
   "name": "python3"
  },
  "language_info": {
   "codemirror_mode": {
    "name": "ipython",
    "version": 3
   },
   "file_extension": ".py",
   "mimetype": "text/x-python",
   "name": "python",
   "nbconvert_exporter": "python",
   "pygments_lexer": "ipython3",
   "version": "3.8.1"
  }
 },
 "nbformat": 4,
 "nbformat_minor": 5
}
